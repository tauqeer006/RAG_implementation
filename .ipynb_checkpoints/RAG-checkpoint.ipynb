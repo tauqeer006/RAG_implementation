{
 "cells": [
  {
   "cell_type": "code",
   "execution_count": 1,
   "id": "3c9400cf-1736-47c5-ab6d-a11b48a92842",
   "metadata": {},
   "outputs": [],
   "source": [
    "from langchain_community.document_loaders import PyPDFLoader\n",
    "import getpass\n",
    "import os\n",
    "from langchain_google_genai import GoogleGenerativeAIEmbeddings"
   ]
  },
  {
   "cell_type": "code",
   "execution_count": 2,
   "id": "c0118726-de2d-4d30-ae67-72347dc8d344",
   "metadata": {},
   "outputs": [],
   "source": [
    "dataset = \"dataset.pdf\""
   ]
  },
  {
   "cell_type": "code",
   "execution_count": 3,
   "id": "8072419b-e8da-42bf-b627-710db9aaba4b",
   "metadata": {},
   "outputs": [],
   "source": [
    "loader = PyPDFLoader(dataset)\n",
    "pages = []\n",
    "async for page in loader.alazy_load():\n",
    "    pages.append(page)"
   ]
  },
  {
   "cell_type": "code",
   "execution_count": null,
   "id": "a4a3c5ab-a44b-47f0-87e8-78e7d79e7ae0",
   "metadata": {},
   "outputs": [],
   "source": []
  },
  {
   "cell_type": "code",
   "execution_count": 4,
   "id": "99004d65-6012-41ea-94fa-e4eaa5bfe405",
   "metadata": {},
   "outputs": [
    {
     "data": {
      "text/plain": [
       "101"
      ]
     },
     "execution_count": 4,
     "metadata": {},
     "output_type": "execute_result"
    }
   ],
   "source": [
    "len(pages)"
   ]
  },
  {
   "cell_type": "code",
   "execution_count": 5,
   "id": "0c541403-ca83-4f6e-b0bf-ca223167e6ee",
   "metadata": {},
   "outputs": [
    {
     "data": {
      "text/plain": [
       "Document(metadata={'producer': 'macOS Version 10.15.7 (Build 19H2) Quartz PDFContext', 'creator': 'Word', 'creationdate': '2020-10-16T05:33:41+00:00', 'author': 'Ranjan Vohra', 'moddate': '2022-04-30T18:17:43+05:30', 'source': 'dataset.pdf', 'total_pages': 101, 'page': 0, 'page_label': '1'}, page_content='1  \\n  9th November 1992  To Shri S.C. Gupta Joint Secretary Lok Sabha Secretariat Parliament House Annexe New Delhi 110 001.   Dear Shri Gupta,  Ref: Your letter no. 10/3(4)/JC(SBI)/92 dt. 06.10.92   I acknowledge receipt of your letter asking me to appear before the Joint Parliamentary Committee on 12th and 13th November, 1992 and I hereby confirm my appearance.   I request you to grant me an opportunity to make a slide presentation on the occasion. As per your requirement, I am forwarding you 40 copies containing details of my presentation which may be treated as my Memorandum. You are requested to circulate it to the Committee Members.  Thanking you,  Yours faithfully,  (Harshad S. Mehta)')"
      ]
     },
     "execution_count": 5,
     "metadata": {},
     "output_type": "execute_result"
    }
   ],
   "source": [
    "pages[0:2]"
   ]
  },
  {
   "cell_type": "code",
   "execution_count": 6,
   "id": "96777c98-707f-453e-a327-ca1e123c01b9",
   "metadata": {},
   "outputs": [],
   "source": [
    "from langchain_text_splitters import RecursiveCharacterTextSplitter"
   ]
  },
  {
   "cell_type": "code",
   "execution_count": 7,
   "id": "e233cdb3-b896-47c6-a968-bd872163c50a",
   "metadata": {},
   "outputs": [],
   "source": [
    "text_split = RecursiveCharacterTextSplitter(\n",
    "             chunk_size=1000,  \n",
    "             chunk_overlap=200,  \n",
    "             add_start_index=True, \n",
    ")"
   ]
  },
  {
   "cell_type": "code",
   "execution_count": 8,
   "id": "98c97658-c23c-4eb3-bef5-275626a7981b",
   "metadata": {},
   "outputs": [],
   "source": [
    "all_split = text_split.split_documents(pages)"
   ]
  },
  {
   "cell_type": "code",
   "execution_count": 20,
   "id": "9467163d-b63d-4d6d-968c-0f3e3eef7049",
   "metadata": {},
   "outputs": [],
   "source": [
    "new_splits = all_split[0:20]"
   ]
  },
  {
   "cell_type": "code",
   "execution_count": 21,
   "id": "cf2c378c-2b68-4a18-8d88-9cd230fcb841",
   "metadata": {},
   "outputs": [
    {
     "data": {
      "text/plain": [
       "20"
      ]
     },
     "execution_count": 21,
     "metadata": {},
     "output_type": "execute_result"
    }
   ],
   "source": [
    "len(new_splits)"
   ]
  },
  {
   "cell_type": "code",
   "execution_count": 11,
   "id": "01e4a491-dd94-4317-a4e4-9d55931dedc4",
   "metadata": {},
   "outputs": [],
   "source": [
    "### Vector Embedding"
   ]
  },
  {
   "cell_type": "code",
   "execution_count": 12,
   "id": "6d9fddce-e93c-464b-b26f-e76a6152ae68",
   "metadata": {},
   "outputs": [],
   "source": [
    "## We are going to use Gemini model for embedding"
   ]
  },
  {
   "cell_type": "code",
   "execution_count": 13,
   "id": "a8f556df-5469-46b4-97c4-fc53b56e832c",
   "metadata": {},
   "outputs": [
    {
     "name": "stdin",
     "output_type": "stream",
     "text": [
      "Enter Gemini key:  ········\n"
     ]
    }
   ],
   "source": [
    "if not os.environ.get(\"Google_API_KEY\"):\n",
    "    os.environ[\"Google_API_KEY\"] = getpass.getpass(\"Enter Gemini key: \")\n",
    "    "
   ]
  },
  {
   "cell_type": "code",
   "execution_count": 14,
   "id": "8726b0f4-2671-48cb-aebe-db5ba09811f5",
   "metadata": {},
   "outputs": [],
   "source": [
    "## embedding:\n",
    "embedding = GoogleGenerativeAIEmbeddings(model = \"models/embedding-001\")"
   ]
  },
  {
   "cell_type": "code",
   "execution_count": 88,
   "id": "d6d41aa2-240b-42c4-a133-f6966c3e88e6",
   "metadata": {},
   "outputs": [],
   "source": [
    "for i in range(0,len(new_splits)):\n",
    "    embedding.embed_query(new_splits[i].page_content)\n",
    "\n",
    "    "
   ]
  },
  {
   "cell_type": "code",
   "execution_count": 89,
   "id": "1bc02fab-c154-4422-8c91-d5a1a91af5fb",
   "metadata": {},
   "outputs": [
    {
     "data": {
      "text/plain": [
       "(768, 768)"
      ]
     },
     "execution_count": 89,
     "metadata": {},
     "output_type": "execute_result"
    }
   ],
   "source": [
    "len(vector_1) , len(vector_5)"
   ]
  },
  {
   "cell_type": "code",
   "execution_count": 90,
   "id": "3e64d8df-8c02-494e-a8fa-270692989b7b",
   "metadata": {},
   "outputs": [
    {
     "data": {
      "text/plain": [
       "(768, 768)"
      ]
     },
     "execution_count": 90,
     "metadata": {},
     "output_type": "execute_result"
    }
   ],
   "source": [
    "len(vector_2) , len(vector_9)"
   ]
  },
  {
   "cell_type": "code",
   "execution_count": 91,
   "id": "422f8a70-50fc-4175-9052-30b1f7bd4abb",
   "metadata": {},
   "outputs": [],
   "source": [
    "#### Now i will store them in a database of faiss"
   ]
  },
  {
   "cell_type": "code",
   "execution_count": 92,
   "id": "ff3cc179-e9a1-449f-9cb4-a7d3b249b7b3",
   "metadata": {},
   "outputs": [],
   "source": [
    "## setup faiss"
   ]
  },
  {
   "cell_type": "code",
   "execution_count": 114,
   "id": "482e2e28-d857-4d83-bea6-4f1f0fe8e407",
   "metadata": {},
   "outputs": [],
   "source": [
    "import faiss\n",
    "from langchain_community.docstore.in_memory import InMemoryDocstore\n",
    "from langchain_community.vectorstores import FAISS"
   ]
  },
  {
   "cell_type": "code",
   "execution_count": 115,
   "id": "bede5a0b-9019-4f07-b7d9-71a6385ce478",
   "metadata": {},
   "outputs": [],
   "source": [
    "embedding_dim = len(embedding.embed_query(\"hello world\"))\n",
    "index = faiss.IndexFlatL2(embedding_dim)\n",
    "\n",
    "vector_store = FAISS(\n",
    "    embedding_function=embedding,\n",
    "    index=index,\n",
    "    docstore=InMemoryDocstore(),\n",
    "    index_to_docstore_id={},\n",
    ")"
   ]
  },
  {
   "cell_type": "code",
   "execution_count": 116,
   "id": "6166c829-8e73-4b1f-aac6-4a42c9542ea5",
   "metadata": {},
   "outputs": [],
   "source": [
    "ids = vector_store.add_documents(documents=new_splits)\n"
   ]
  },
  {
   "cell_type": "code",
   "execution_count": 125,
   "id": "8606524d-c3e3-40bd-89c9-6f839b4106b5",
   "metadata": {},
   "outputs": [],
   "source": [
    "## saving the embedding\n",
    "vector_store.save_local(\"faiss_index_dir\")\n"
   ]
  },
  {
   "cell_type": "code",
   "execution_count": 103,
   "id": "c6484554-94cd-48bd-9168-b83672f84da2",
   "metadata": {},
   "outputs": [],
   "source": [
    "# suppose now i only have the faiss index directory to use"
   ]
  },
  {
   "cell_type": "code",
   "execution_count": 126,
   "id": "9a658474-6465-4c7f-9838-0ee0015e8271",
   "metadata": {},
   "outputs": [],
   "source": [
    "from langchain.vectorstores import FAISS"
   ]
  },
  {
   "cell_type": "code",
   "execution_count": 127,
   "id": "a2ee8fa3-9bf9-4247-b3c6-d8d6b2917aac",
   "metadata": {},
   "outputs": [],
   "source": [
    "returned_vector = FAISS.load_local(\"faiss_index_dir\", embedding , allow_dangerous_deserialization=True)"
   ]
  },
  {
   "cell_type": "code",
   "execution_count": 128,
   "id": "6cb21a87-277c-4fd0-a35f-48feba00bffb",
   "metadata": {},
   "outputs": [
    {
     "data": {
      "text/plain": [
       "<langchain_community.vectorstores.faiss.FAISS at 0x26f07ae89d0>"
      ]
     },
     "execution_count": 128,
     "metadata": {},
     "output_type": "execute_result"
    }
   ],
   "source": [
    "returned_vector"
   ]
  },
  {
   "cell_type": "code",
   "execution_count": 117,
   "id": "5e749e55-9c53-42e3-b1e6-143e70fb31d3",
   "metadata": {},
   "outputs": [
    {
     "data": {
      "text/plain": [
       "768"
      ]
     },
     "execution_count": 117,
     "metadata": {},
     "output_type": "execute_result"
    }
   ],
   "source": [
    "embedding_dim"
   ]
  },
  {
   "cell_type": "code",
   "execution_count": 129,
   "id": "216d8602-925c-4494-ab7e-02f845739ba1",
   "metadata": {},
   "outputs": [],
   "source": [
    "new_data1 = await returned_vector.asimilarity_search(\"\"\"\n",
    "                   What did Dr. Manmohan Singh say about the root causes of the Indian banking scam in the context of structural reforms?\"\"\")\n"
   ]
  },
  {
   "cell_type": "code",
   "execution_count": 131,
   "id": "df5efb45-73de-4ab0-8d24-f1e10b400021",
   "metadata": {},
   "outputs": [
    {
     "name": "stdout",
     "output_type": "stream",
     "text": [
      "Score: 0.40228527784347534\n",
      "\n",
      "page_content='14  \n",
      "  GENESIS OF THE SO CALLED SCAM  DR. MANMOHAN SINGH HAS STATED IN AN ARTICLE ON “AFTER ONE YEAR OF STRUCTURAL REFORMS IN INDIAN ECONOMY” THAT  “INDIA HAS AN OVER REGULATED BUT UNDER GOVERNED BANKING SYSTEM. OVER THE YEARS, A GROWING PORTION OF BANK DEPOSITS CAME TO BE INVESTED IN LOW YIELDING GOVERNMENT SECURITIES. MOREOVER, 40% OF BANK CREDIT HAS TO BE EARMARKED FOR PRIORITY SECTORS WITH VARYING ELEMENTS OF CONCESSIONALITY BUILT INTO IT. THUS BANKS GOT INVOLVED IN UNCONVENTIONAL MEANS OF IMPROVING THEIR PROFITABILITY WHICH IN THE ABSENCE OF EFFECTIVE CONTROL MECHANISM AND COLLUSION BETWEEN SOME BANK OFFICIALS AND STOCK MARKET OPERATORS LED TO DIVERSION OF BANK FUNDS INTO STOCK MARKET.”' metadata={'producer': 'macOS Version 10.15.7 (Build 19H2) Quartz PDFContext', 'creator': 'Word', 'creationdate': '2020-10-16T05:33:41+00:00', 'author': 'Ranjan Vohra', 'moddate': '2022-04-30T18:17:43+05:30', 'source': 'dataset.pdf', 'total_pages': 101, 'page': 13, 'page_label': '14', 'start_index': 0}\n"
     ]
    }
   ],
   "source": [
    "results = vector_store.similarity_search_with_score(\"What did Dr. Manmohan Singh say about the root causes of the Indian banking scam in the context of structural reforms?\")\n",
    "doc, score = results[0]\n",
    "print(f\"Score: {score}\\n\")\n",
    "print(doc)"
   ]
  },
  {
   "cell_type": "code",
   "execution_count": 130,
   "id": "1772e7ab-c060-4ae8-ad34-3483d0fcb095",
   "metadata": {},
   "outputs": [
    {
     "data": {
      "text/plain": [
       "Document(id='3437032d-ee2c-4254-9109-86c74d01ccf8', metadata={'producer': 'macOS Version 10.15.7 (Build 19H2) Quartz PDFContext', 'creator': 'Word', 'creationdate': '2020-10-16T05:33:41+00:00', 'author': 'Ranjan Vohra', 'moddate': '2022-04-30T18:17:43+05:30', 'source': 'dataset.pdf', 'total_pages': 101, 'page': 13, 'page_label': '14', 'start_index': 0}, page_content='14  \\n  GENESIS OF THE SO CALLED SCAM  DR. MANMOHAN SINGH HAS STATED IN AN ARTICLE ON “AFTER ONE YEAR OF STRUCTURAL REFORMS IN INDIAN ECONOMY” THAT  “INDIA HAS AN OVER REGULATED BUT UNDER GOVERNED BANKING SYSTEM. OVER THE YEARS, A GROWING PORTION OF BANK DEPOSITS CAME TO BE INVESTED IN LOW YIELDING GOVERNMENT SECURITIES. MOREOVER, 40% OF BANK CREDIT HAS TO BE EARMARKED FOR PRIORITY SECTORS WITH VARYING ELEMENTS OF CONCESSIONALITY BUILT INTO IT. THUS BANKS GOT INVOLVED IN UNCONVENTIONAL MEANS OF IMPROVING THEIR PROFITABILITY WHICH IN THE ABSENCE OF EFFECTIVE CONTROL MECHANISM AND COLLUSION BETWEEN SOME BANK OFFICIALS AND STOCK MARKET OPERATORS LED TO DIVERSION OF BANK FUNDS INTO STOCK MARKET.”')"
      ]
     },
     "execution_count": 130,
     "metadata": {},
     "output_type": "execute_result"
    }
   ],
   "source": [
    "new_data1[0]"
   ]
  },
  {
   "cell_type": "code",
   "execution_count": 119,
   "id": "2a4ad0ab-ef9b-4db4-8d69-58600efb6884",
   "metadata": {},
   "outputs": [
    {
     "data": {
      "text/plain": [
       "<langchain_community.vectorstores.faiss.FAISS at 0x26f07aead70>"
      ]
     },
     "execution_count": 119,
     "metadata": {},
     "output_type": "execute_result"
    }
   ],
   "source": [
    "vector_store"
   ]
  },
  {
   "cell_type": "code",
   "execution_count": 120,
   "id": "5bda20a0-25a2-466e-b673-d5b91ab9da3e",
   "metadata": {},
   "outputs": [
    {
     "data": {
      "text/plain": [
       "['c1bc7397-3b6c-446e-a03e-b29bd8d8dfc1',\n",
       " 'db4aaece-d2e3-4c43-952f-e415d1f3fe16',\n",
       " '8878676d-182e-4603-8922-dee6b6a1da13',\n",
       " 'f6a14ebd-ae9c-4fa4-9cf9-822326e2b5ef',\n",
       " 'c36776ab-b695-43bf-98ac-b20858879ff6',\n",
       " '451b3c41-e8d8-4c9e-ae44-d79164a0f537',\n",
       " 'a2c13597-0f9d-4059-8d83-15ca3102795a',\n",
       " 'cf27519e-a5d1-47c1-9a58-a88032cd37f7',\n",
       " 'c2d992a6-7bc8-4a7c-aaf2-8b673a728d2c',\n",
       " 'e99c665e-2f7c-4d68-8347-88091673ff25',\n",
       " 'd4448d6d-15b3-43b2-8fc6-1fb68261f1d4',\n",
       " '9cefc7d9-cdc4-4f0d-a7ea-df54d3730826',\n",
       " '4929d1af-5e63-4040-9084-659072b33252',\n",
       " 'c4ee9400-c8f2-4641-b60a-015c8d6680c1',\n",
       " '32438d55-230a-40dc-9217-0d4e8911dde5',\n",
       " '0403d21f-c2bd-4684-b263-af745781f175',\n",
       " '45debeca-0e19-43a4-a6c1-3b2fa69958bb',\n",
       " '3437032d-ee2c-4254-9109-86c74d01ccf8',\n",
       " 'ed36607d-d53f-41ad-a75a-4741ed04d65f',\n",
       " '181b6fae-75d0-4d32-994b-7402d70830a7']"
      ]
     },
     "execution_count": 120,
     "metadata": {},
     "output_type": "execute_result"
    }
   ],
   "source": [
    "ids"
   ]
  },
  {
   "cell_type": "code",
   "execution_count": 121,
   "id": "e3450610-7051-4d5f-944f-6c3fc94e0fdd",
   "metadata": {},
   "outputs": [],
   "source": [
    "##testing"
   ]
  },
  {
   "cell_type": "code",
   "execution_count": 122,
   "id": "d6d0303d-43c9-4576-ab7f-7ea8c8f05c3b",
   "metadata": {},
   "outputs": [],
   "source": [
    "new_data = vector_store.similarity_search(\"\"\"I request you to grant me an opportunity to make a slide presentation on the occasion. \n",
    "                                         As per your requirement, I am forwarding you 40 copies containing details of my presentation \n",
    "                                         which may be treated as my Memorandum.\n",
    "                                         You are requested to circulate it to the Committee Members\"\"\"\n",
    "    \n",
    ")"
   ]
  },
  {
   "cell_type": "code",
   "execution_count": 123,
   "id": "4398a678-dee2-4b1d-8b01-27562a5f7e4d",
   "metadata": {},
   "outputs": [],
   "source": [
    "new_data1 = await vector_store.asimilarity_search(\"\"\"\n",
    "                   What did Dr. Manmohan Singh say about the root causes of the Indian banking scam in the context of structural reforms?\"\"\")\n"
   ]
  },
  {
   "cell_type": "code",
   "execution_count": 124,
   "id": "e1216a03-f4ce-4fd2-9d95-2770629c3e9a",
   "metadata": {},
   "outputs": [
    {
     "data": {
      "text/plain": [
       "Document(id='3437032d-ee2c-4254-9109-86c74d01ccf8', metadata={'producer': 'macOS Version 10.15.7 (Build 19H2) Quartz PDFContext', 'creator': 'Word', 'creationdate': '2020-10-16T05:33:41+00:00', 'author': 'Ranjan Vohra', 'moddate': '2022-04-30T18:17:43+05:30', 'source': 'dataset.pdf', 'total_pages': 101, 'page': 13, 'page_label': '14', 'start_index': 0}, page_content='14  \\n  GENESIS OF THE SO CALLED SCAM  DR. MANMOHAN SINGH HAS STATED IN AN ARTICLE ON “AFTER ONE YEAR OF STRUCTURAL REFORMS IN INDIAN ECONOMY” THAT  “INDIA HAS AN OVER REGULATED BUT UNDER GOVERNED BANKING SYSTEM. OVER THE YEARS, A GROWING PORTION OF BANK DEPOSITS CAME TO BE INVESTED IN LOW YIELDING GOVERNMENT SECURITIES. MOREOVER, 40% OF BANK CREDIT HAS TO BE EARMARKED FOR PRIORITY SECTORS WITH VARYING ELEMENTS OF CONCESSIONALITY BUILT INTO IT. THUS BANKS GOT INVOLVED IN UNCONVENTIONAL MEANS OF IMPROVING THEIR PROFITABILITY WHICH IN THE ABSENCE OF EFFECTIVE CONTROL MECHANISM AND COLLUSION BETWEEN SOME BANK OFFICIALS AND STOCK MARKET OPERATORS LED TO DIVERSION OF BANK FUNDS INTO STOCK MARKET.”')"
      ]
     },
     "execution_count": 124,
     "metadata": {},
     "output_type": "execute_result"
    }
   ],
   "source": [
    "new_data1[0]"
   ]
  },
  {
   "cell_type": "code",
   "execution_count": 132,
   "id": "f24d2899-4204-4727-8dcb-96b510955d06",
   "metadata": {},
   "outputs": [],
   "source": [
    "### now using eclidian distance to find the similarity and most lower distance will have closer match"
   ]
  },
  {
   "cell_type": "code",
   "execution_count": 135,
   "id": "4f1963a8-62fb-4ce8-86b4-d7e27152357b",
   "metadata": {},
   "outputs": [],
   "source": [
    "from langchain_community.vectorstores import FAISS\n",
    "vector_store_new = FAISS.load_local(\"faiss_index_dir\" , embedding , allow_dangerous_deserialization = True)"
   ]
  },
  {
   "cell_type": "code",
   "execution_count": 138,
   "id": "be7f93d6-c362-4601-8ab2-bc1194c7cecc",
   "metadata": {},
   "outputs": [],
   "source": [
    "v_index = vector_store_new.index"
   ]
  },
  {
   "cell_type": "code",
   "execution_count": 140,
   "id": "89de5d17-4d1b-4947-aa7d-c33a62f9e2b8",
   "metadata": {},
   "outputs": [],
   "source": [
    "stored_vectors = v_index.reconstruct_n(0, v_index.ntotal)\n"
   ]
  },
  {
   "cell_type": "code",
   "execution_count": 141,
   "id": "6bf53d71-c0bf-4cc5-974e-071acdebefe3",
   "metadata": {},
   "outputs": [
    {
     "data": {
      "text/plain": [
       "array([[-0.00106366,  0.00715559, -0.06084427, ..., -0.00116317,\n",
       "        -0.02768887,  0.01467393],\n",
       "       [ 0.06324232,  0.02489971, -0.048758  , ...,  0.03703496,\n",
       "        -0.01691704,  0.01630147],\n",
       "       [ 0.04001369, -0.00107695, -0.06623501, ...,  0.02761392,\n",
       "        -0.00343676,  0.0381248 ],\n",
       "       ...,\n",
       "       [ 0.05889084, -0.01527281, -0.02560736, ...,  0.03543722,\n",
       "        -0.03361479, -0.01988224],\n",
       "       [ 0.0445253 ,  0.00058609, -0.04038693, ...,  0.03051963,\n",
       "        -0.02246741, -0.02482348],\n",
       "       [ 0.06156801, -0.02290945, -0.06145952, ...,  0.03249632,\n",
       "        -0.02252628,  0.01240308]], shape=(20, 768), dtype=float32)"
      ]
     },
     "execution_count": 141,
     "metadata": {},
     "output_type": "execute_result"
    }
   ],
   "source": [
    "stored_vectors"
   ]
  },
  {
   "cell_type": "code",
   "execution_count": 144,
   "id": "e5d7101a-56c9-480a-8faa-789367e93377",
   "metadata": {},
   "outputs": [],
   "source": [
    "# user input:\n",
    "query_vector = embedding.embed_query(\"What did Dr. Manmohan Singh say about the banking scam?\")\n"
   ]
  },
  {
   "cell_type": "code",
   "execution_count": 145,
   "id": "032057ef-1ad3-4fd3-ae43-cca4c3c50685",
   "metadata": {},
   "outputs": [],
   "source": [
    "import numpy as np\n",
    "def compute_Elidian_Distance(x,y):\n",
    "    x1 = np.array(x)\n",
    "    x2 = np.array(y)\n",
    "    return np.sqrt(np.sum(x1-x2)**2)\n",
    "    \n",
    "    "
   ]
  },
  {
   "cell_type": "code",
   "execution_count": 148,
   "id": "1414001b-4713-469f-b15b-1f8d400a192d",
   "metadata": {},
   "outputs": [],
   "source": [
    "distances = []\n",
    "for stored_vector in stored_vectors:\n",
    "    distances.append(compute_Elidian_Distance(query_vector , stored_vector))"
   ]
  },
  {
   "cell_type": "code",
   "execution_count": 155,
   "id": "aedfc42e-df15-462e-8a98-e6b8ffb40d5f",
   "metadata": {},
   "outputs": [
    {
     "data": {
      "text/plain": [
       "[np.float64(0.2817903586058037),\n",
       " np.float64(0.7043296681440552),\n",
       " np.float64(1.2788254320257693),\n",
       " np.float64(1.3679556986826356),\n",
       " np.float64(0.8972238131882477),\n",
       " np.float64(1.307401616788411),\n",
       " np.float64(0.5411418436706299),\n",
       " np.float64(1.3587910908354388),\n",
       " np.float64(1.0849988155823667),\n",
       " np.float64(0.5406018695684907),\n",
       " np.float64(0.953243935284263),\n",
       " np.float64(0.9254246906730259),\n",
       " np.float64(0.12450256116426317),\n",
       " np.float64(1.8969382656505331),\n",
       " np.float64(0.7736140946981322),\n",
       " np.float64(0.9036632409079175),\n",
       " np.float64(1.4403763246473318),\n",
       " np.float64(0.5739828581863549),\n",
       " np.float64(0.6035573079207097),\n",
       " np.float64(1.0577815964679758)]"
      ]
     },
     "execution_count": 155,
     "metadata": {},
     "output_type": "execute_result"
    }
   ],
   "source": [
    "distances"
   ]
  },
  {
   "cell_type": "code",
   "execution_count": 166,
   "id": "2929d690-5bfe-4c15-8e1a-f7efb0de0c18",
   "metadata": {},
   "outputs": [],
   "source": [
    "top_5 = 5\n",
    "top_index = np.argsort(distances)[:1]"
   ]
  },
  {
   "cell_type": "code",
   "execution_count": 167,
   "id": "b8a91321-19c1-478f-9170-2f3d9281d4aa",
   "metadata": {},
   "outputs": [
    {
     "data": {
      "text/plain": [
       "array([12])"
      ]
     },
     "execution_count": 167,
     "metadata": {},
     "output_type": "execute_result"
    }
   ],
   "source": [
    "top_index"
   ]
  },
  {
   "cell_type": "code",
   "execution_count": null,
   "id": "75867079-91ae-4d62-89c8-8b2ebb1351f5",
   "metadata": {},
   "outputs": [],
   "source": []
  },
  {
   "cell_type": "code",
   "execution_count": 172,
   "id": "80e62e44-cec6-4ade-9fdf-1e9ded7956e7",
   "metadata": {},
   "outputs": [
    {
     "name": "stdout",
     "output_type": "stream",
     "text": [
      "Distance: 0.12450256116426317\n",
      "Document Content:\n",
      " 9  \n",
      "       REQUEST   I REQUEST JPC NOT TO DRAW SURMISES BASED ON THE VERSIONS OF RBI, JANAKIRAMAN COMMITTEE AND CBI. IT IS BROKERS WHO CAN GIVE THE REAL INSIGHT INTO WHAT HAPPENED IN THE MARKET PLACE AS THEY ONLY KNOW IT FIRST HAND. TO APPRAISE THE MEMBERS OF THIS AUGUST BODY COMPLETELY I HAVE TAKEN LIBERTY TO DRAW THE REAL AND STARK PICTURE OF THE AFFAIRS.\n"
     ]
    }
   ],
   "source": [
    "for idx in top_index:\n",
    "    doc_id = vector_store_new.index_to_docstore_id[idx]\n",
    "    document = vector_store_new.docstore._dict[doc_id]\n",
    "    print(f\"Distance: {distances[idx]}\")\n",
    "    print(\"Document Content:\\n\", document.page_content)\n"
   ]
  },
  {
   "cell_type": "code",
   "execution_count": null,
   "id": "5bddbaa0-4e85-44be-bb2d-81e42e5cde8c",
   "metadata": {},
   "outputs": [],
   "source": []
  }
 ],
 "metadata": {
  "kernelspec": {
   "display_name": "Python 3 (ipykernel)",
   "language": "python",
   "name": "python3"
  },
  "language_info": {
   "codemirror_mode": {
    "name": "ipython",
    "version": 3
   },
   "file_extension": ".py",
   "mimetype": "text/x-python",
   "name": "python",
   "nbconvert_exporter": "python",
   "pygments_lexer": "ipython3",
   "version": "3.13.5"
  }
 },
 "nbformat": 4,
 "nbformat_minor": 5
}
