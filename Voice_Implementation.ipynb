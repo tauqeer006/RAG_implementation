{
 "cells": [
  {
   "cell_type": "code",
   "execution_count": 2,
   "id": "dd83f64a",
   "metadata": {},
   "outputs": [],
   "source": [
    "import logging"
   ]
  },
  {
   "cell_type": "code",
   "execution_count": 3,
   "id": "1b97c512",
   "metadata": {},
   "outputs": [
    {
     "ename": "TypeError",
     "evalue": "Level not an integer or a valid string: <function info at 0x000002003D9AE660>",
     "output_type": "error",
     "traceback": [
      "\u001b[31m---------------------------------------------------------------------------\u001b[39m",
      "\u001b[31mTypeError\u001b[39m                                 Traceback (most recent call last)",
      "\u001b[36mCell\u001b[39m\u001b[36m \u001b[39m\u001b[32mIn[3]\u001b[39m\u001b[32m, line 1\u001b[39m\n\u001b[32m----> \u001b[39m\u001b[32m1\u001b[39m \u001b[43mlogging\u001b[49m\u001b[43m.\u001b[49m\u001b[43mbasicConfig\u001b[49m\u001b[43m(\u001b[49m\u001b[43mlevel\u001b[49m\u001b[43m=\u001b[49m\u001b[43mlogging\u001b[49m\u001b[43m.\u001b[49m\u001b[43minfo\u001b[49m\u001b[43m \u001b[49m\u001b[43m,\u001b[49m\u001b[43m \u001b[49m\u001b[38;5;28;43mformat\u001b[39;49m\u001b[43m=\u001b[49m\u001b[33;43m\"\u001b[39;49m\u001b[38;5;132;43;01m%(asctime)s\u001b[39;49;00m\u001b[33;43m - \u001b[39;49m\u001b[38;5;132;43;01m%(levelname)s\u001b[39;49;00m\u001b[33;43m - \u001b[39;49m\u001b[38;5;132;43;01m%(message)s\u001b[39;49;00m\u001b[33;43m\"\u001b[39;49m\u001b[43m)\u001b[49m\n",
      "\u001b[36mFile \u001b[39m\u001b[32m~\\AppData\\Local\\Programs\\Python\\Python313\\Lib\\logging\\__init__.py:2131\u001b[39m, in \u001b[36mbasicConfig\u001b[39m\u001b[34m(**kwargs)\u001b[39m\n\u001b[32m   2129\u001b[39m level = kwargs.pop(\u001b[33m\"\u001b[39m\u001b[33mlevel\u001b[39m\u001b[33m\"\u001b[39m, \u001b[38;5;28;01mNone\u001b[39;00m)\n\u001b[32m   2130\u001b[39m \u001b[38;5;28;01mif\u001b[39;00m level \u001b[38;5;129;01mis\u001b[39;00m \u001b[38;5;129;01mnot\u001b[39;00m \u001b[38;5;28;01mNone\u001b[39;00m:\n\u001b[32m-> \u001b[39m\u001b[32m2131\u001b[39m     \u001b[43mroot\u001b[49m\u001b[43m.\u001b[49m\u001b[43msetLevel\u001b[49m\u001b[43m(\u001b[49m\u001b[43mlevel\u001b[49m\u001b[43m)\u001b[49m\n\u001b[32m   2132\u001b[39m \u001b[38;5;28;01mif\u001b[39;00m kwargs:\n\u001b[32m   2133\u001b[39m     keys = \u001b[33m'\u001b[39m\u001b[33m, \u001b[39m\u001b[33m'\u001b[39m.join(kwargs.keys())\n",
      "\u001b[36mFile \u001b[39m\u001b[32m~\\AppData\\Local\\Programs\\Python\\Python313\\Lib\\logging\\__init__.py:1497\u001b[39m, in \u001b[36mLogger.setLevel\u001b[39m\u001b[34m(self, level)\u001b[39m\n\u001b[32m   1493\u001b[39m \u001b[38;5;28;01mdef\u001b[39;00m\u001b[38;5;250m \u001b[39m\u001b[34msetLevel\u001b[39m(\u001b[38;5;28mself\u001b[39m, level):\n\u001b[32m   1494\u001b[39m \u001b[38;5;250m    \u001b[39m\u001b[33;03m\"\"\"\u001b[39;00m\n\u001b[32m   1495\u001b[39m \u001b[33;03m    Set the logging level of this logger.  level must be an int or a str.\u001b[39;00m\n\u001b[32m   1496\u001b[39m \u001b[33;03m    \"\"\"\u001b[39;00m\n\u001b[32m-> \u001b[39m\u001b[32m1497\u001b[39m     \u001b[38;5;28mself\u001b[39m.level = \u001b[43m_checkLevel\u001b[49m\u001b[43m(\u001b[49m\u001b[43mlevel\u001b[49m\u001b[43m)\u001b[49m\n\u001b[32m   1498\u001b[39m     \u001b[38;5;28mself\u001b[39m.manager._clear_cache()\n",
      "\u001b[36mFile \u001b[39m\u001b[32m~\\AppData\\Local\\Programs\\Python\\Python313\\Lib\\logging\\__init__.py:213\u001b[39m, in \u001b[36m_checkLevel\u001b[39m\u001b[34m(level)\u001b[39m\n\u001b[32m    211\u001b[39m     rv = _nameToLevel[level]\n\u001b[32m    212\u001b[39m \u001b[38;5;28;01melse\u001b[39;00m:\n\u001b[32m--> \u001b[39m\u001b[32m213\u001b[39m     \u001b[38;5;28;01mraise\u001b[39;00m \u001b[38;5;167;01mTypeError\u001b[39;00m(\u001b[33m\"\u001b[39m\u001b[33mLevel not an integer or a valid string: \u001b[39m\u001b[38;5;132;01m%r\u001b[39;00m\u001b[33m\"\u001b[39m\n\u001b[32m    214\u001b[39m                     % (level,))\n\u001b[32m    215\u001b[39m \u001b[38;5;28;01mreturn\u001b[39;00m rv\n",
      "\u001b[31mTypeError\u001b[39m: Level not an integer or a valid string: <function info at 0x000002003D9AE660>"
     ]
    }
   ],
   "source": [
    "logging.basicConfig(level=logging.info , format=\"%(asctime)s - %(levelname)s - %(message)s\")"
   ]
  },
  {
   "cell_type": "code",
   "execution_count": 8,
   "id": "4f6573f7",
   "metadata": {},
   "outputs": [
    {
     "name": "stdout",
     "output_type": "stream",
     "text": [
      "hello world\n"
     ]
    }
   ],
   "source": [
    "print(\"hello world\")"
   ]
  },
  {
   "cell_type": "code",
   "execution_count": 22,
   "id": "1eb4e075",
   "metadata": {},
   "outputs": [],
   "source": [
    "import sounddevice as sd\n",
    "from scipy.io.wavfile import write"
   ]
  },
  {
   "cell_type": "code",
   "execution_count": 13,
   "id": "5795f6cc",
   "metadata": {},
   "outputs": [],
   "source": [
    "# creating my recording:\n",
    "duration = 5\n",
    "filename = \"record.wav\"\n",
    "sample_rate = 44100\n"
   ]
  },
  {
   "cell_type": "code",
   "execution_count": 25,
   "id": "6979f5d6",
   "metadata": {},
   "outputs": [
    {
     "name": "stdout",
     "output_type": "stream",
     "text": [
      "Recording being started: \n",
      "Recording completed\n"
     ]
    }
   ],
   "source": [
    "print(\"Recording being started: \")\n",
    "\n",
    "audio = sd.rec(int(duration * sample_rate), samplerate=sample_rate, channels=1)\n",
    "sd.wait()\n",
    "print(\"Recording completed\")\n",
    "\n",
    "write(filename ,  sample_rate , audio )"
   ]
  },
  {
   "cell_type": "code",
   "execution_count": 27,
   "id": "af2e75b7",
   "metadata": {},
   "outputs": [],
   "source": [
    "######## voice recorded now convert this voice to text using whisper model:\n",
    "import requests"
   ]
  },
  {
   "cell_type": "code",
   "execution_count": 38,
   "id": "ebd9cc44",
   "metadata": {},
   "outputs": [
    {
     "name": "stdout",
     "output_type": "stream",
     "text": [
      "✅ Transcription Result:\n",
      "{'task_id': '3cc21774-b314-401b-80df-83535ea3910b', 'status': 'queued', 'result': None, 'language': 'en', 'format': 'text', 'error': None}\n"
     ]
    }
   ],
   "source": [
    "\n",
    "API_KEY = \"4bMRawaVl9tOz06sdIeX7-Oxa-adeP2Okwy9XQmF80k\"\n",
    "API_URL = \"https://api.whisper-api.com/transcribe\"\n",
    "audio_file_path = \"voice.mp3\"\n",
    "\n",
    "with open(audio_file_path, \"rb\") as f:\n",
    "    files = {\"file\": f}\n",
    "    headers = {\n",
    "        \"X-API-Key\": API_KEY\n",
    "    }\n",
    "\n",
    "    response = requests.post(API_URL, headers=headers, files=files)\n",
    "\n",
    "try:\n",
    "    data = response.json()\n",
    "    print(\"✅ Transcription Result:\")\n",
    "    print(data)\n",
    "except ValueError:\n",
    "    print(\"❌ Could not decode JSON. Raw response:\")\n",
    "    print(response.content) \n"
   ]
  },
  {
   "cell_type": "code",
   "execution_count": 49,
   "id": "79203bf6",
   "metadata": {},
   "outputs": [],
   "source": [
    "from vosk import Model, KaldiRecognizer\n",
    "import wave\n",
    "import json"
   ]
  },
  {
   "cell_type": "code",
   "execution_count": 51,
   "id": "fc172c03",
   "metadata": {},
   "outputs": [],
   "source": [
    "model = Model(\"vosk-model-en-us-0.22-lgraph\")\n"
   ]
  },
  {
   "cell_type": "code",
   "execution_count": 52,
   "id": "9df80b01",
   "metadata": {},
   "outputs": [
    {
     "name": "stdout",
     "output_type": "stream",
     "text": [
      "📝 Transcription: to ouch share than share she as hm the one child a  ah share shh shh the charles   sure sure oh  oh ah oh oh \n"
     ]
    }
   ],
   "source": [
    "wf = wave.open(\"voice.wav\", \"rb\")\n",
    "recognizer = KaldiRecognizer(model, wf.getframerate())\n",
    "\n",
    "results = []\n",
    "while True:\n",
    "    data = wf.readframes(4000)\n",
    "    if len(data) == 0:\n",
    "        break\n",
    "    if recognizer.AcceptWaveform(data):\n",
    "        result = json.loads(recognizer.Result())\n",
    "        results.append(result.get(\"text\", \"\"))\n",
    "\n",
    "final_result = json.loads(recognizer.FinalResult())\n",
    "results.append(final_result.get(\"text\", \"\"))\n",
    "\n",
    "transcription = \" \".join(results)\n",
    "print(\"📝 Transcription:\", transcription)"
   ]
  },
  {
   "cell_type": "code",
   "execution_count": null,
   "id": "d3ad3976",
   "metadata": {},
   "outputs": [],
   "source": []
  }
 ],
 "metadata": {
  "kernelspec": {
   "display_name": "venv",
   "language": "python",
   "name": "python3"
  },
  "language_info": {
   "codemirror_mode": {
    "name": "ipython",
    "version": 3
   },
   "file_extension": ".py",
   "mimetype": "text/x-python",
   "name": "python",
   "nbconvert_exporter": "python",
   "pygments_lexer": "ipython3",
   "version": "3.13.5"
  }
 },
 "nbformat": 4,
 "nbformat_minor": 5
}
